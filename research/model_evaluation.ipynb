{
 "cells": [
  {
   "cell_type": "code",
   "execution_count": 43,
   "id": "41365ca5",
   "metadata": {},
   "outputs": [],
   "source": [
    "import os"
   ]
  },
  {
   "cell_type": "code",
   "execution_count": 44,
   "id": "20cad868",
   "metadata": {},
   "outputs": [],
   "source": [
    "#os.chdir(\"../\")"
   ]
  },
  {
   "cell_type": "code",
   "execution_count": 45,
   "id": "c840a5b8",
   "metadata": {},
   "outputs": [],
   "source": [
    "#%pwd"
   ]
  },
  {
   "cell_type": "code",
   "execution_count": 46,
   "id": "a1153f5c",
   "metadata": {},
   "outputs": [],
   "source": [
    "from dataclasses import dataclass\n",
    "from pathlib import Path\n",
    "\n",
    "@dataclass(frozen=True)\n",
    "class ModelEvaluationConfig:\n",
    "    root_dir: Path\n",
    "    scaler_path: Path \n",
    "    test_data_path: Path\n",
    "    model_path: Path\n",
    "    metric_file_name: Path"
   ]
  },
  {
   "cell_type": "code",
   "execution_count": 47,
   "id": "1a9aa638",
   "metadata": {},
   "outputs": [],
   "source": [
    "from mlProject.constants import *\n",
    "from mlProject.utils.common import read_yaml, create_directories\n",
    "from pathlib import Path\n",
    "\n",
    "class ConfigurationManager:\n",
    "    def __init__(self,\n",
    "                 config_filepath=CONFIG_FILE_PATH,\n",
    "                 params_filepath=PARAMS_FILE_PATH,\n",
    "                 schema_filepath=SCHEMA_FILE_PATH):\n",
    "        self.config = read_yaml(config_filepath)\n",
    "        self.params = read_yaml(params_filepath)\n",
    "        self.schema = read_yaml(schema_filepath)\n",
    "\n",
    "        create_directories([self.config.artifacts_root])\n",
    "\n",
    "    def get_model_evaluation_config(self) -> ModelEvaluationConfig:\n",
    "        config = self.config.model_evaluation\n",
    "\n",
    "        create_directories([config[\"root_dir\"]])\n",
    "\n",
    "        return ModelEvaluationConfig(\n",
    "    root_dir=Path(config[\"root_dir\"]),\n",
    "        test_data_path=Path(config[\"test_data_path\"]),\n",
    "        model_path=Path(config[\"model_path\"]),\n",
    "        metric_file_name=Path(config[\"metric_file_name\"]),\n",
    "        scaler_path=Path(self.config.model_trainer[\"scaler_path\"])  # ✅ reuse from training config\n",
    "    )\n",
    "\n"
   ]
  },
  {
   "cell_type": "code",
   "execution_count": 48,
   "id": "b38aadd4",
   "metadata": {},
   "outputs": [],
   "source": [
    "import joblib\n",
    "import pandas as pd\n",
    "import os, json\n",
    "from sklearn.metrics import accuracy_score, f1_score, classification_report\n",
    "\n",
    "class ModelEvaluation:\n",
    "    def __init__(self, config):\n",
    "        self.config = config\n",
    "\n",
    "    def evaluate(self):\n",
    "        # Load test data\n",
    "        df = pd.read_csv(self.config.test_data_path)\n",
    "        X_test = df.drop(\"treatment\", axis=1)\n",
    "        y_test = df[\"treatment\"]\n",
    "\n",
    "        # Load scaler ✅\n",
    "        scaler = joblib.load(self.config.scaler_path)\n",
    "        X_test_scaled = scaler.transform(X_test)\n",
    "\n",
    "        # Load model\n",
    "        model = joblib.load(self.config.model_path)\n",
    "\n",
    "        # Predict\n",
    "        y_pred = model.predict(X_test_scaled)  # ✅ scaled test data\n",
    "\n",
    "        # Metrics\n",
    "        acc = accuracy_score(y_test, y_pred)\n",
    "        f1 = f1_score(y_test, y_pred, pos_label=1)\n",
    "        report = classification_report(y_test, y_pred, target_names=[\"No\", \"Yes\"], output_dict=True)\n",
    "\n",
    "        # Save metrics\n",
    "        metrics = {\n",
    "            \"accuracy\": acc,\n",
    "            \"f1_score\": f1,\n",
    "            \"classification_report\": report\n",
    "        }\n",
    "\n",
    "        os.makedirs(os.path.dirname(self.config.metric_file_name), exist_ok=True)\n",
    "        with open(self.config.metric_file_name, \"w\") as f:\n",
    "            json.dump(metrics, f, indent=4)\n",
    "\n",
    "        # Print\n",
    "        print(f\"\\n✅ Evaluation Completed:\\nAccuracy: {acc:.4f} | F1 Score: {f1:.4f}\")\n",
    "        print(\"📄 Classification Report:\")\n",
    "        print(classification_report(y_test, y_pred, target_names=[\"No\", \"Yes\"]))\n"
   ]
  },
  {
   "cell_type": "code",
   "execution_count": 49,
   "id": "64cd1468",
   "metadata": {},
   "outputs": [
    {
     "name": "stdout",
     "output_type": "stream",
     "text": [
      "[2025-07-21 19:02:57,834: INFO: common: yaml file: D:\\end to end mental_health_prediction\\config.yaml loaded successfully]\n",
      "[2025-07-21 19:02:57,842: INFO: common: yaml file: D:\\end to end mental_health_prediction\\params.yaml loaded successfully]\n",
      "[2025-07-21 19:02:57,847: INFO: common: yaml file: D:\\end to end mental_health_prediction\\schema.yaml loaded successfully]\n",
      "[2025-07-21 19:02:57,850: INFO: common: created directory at: artifacts]\n",
      "[2025-07-21 19:02:57,852: INFO: common: created directory at: artifacts/model_evaluation]\n",
      "\n",
      "✅ Evaluation Completed:\n",
      "Accuracy: 0.7410 | F1 Score: 0.7510\n",
      "📄 Classification Report:\n",
      "              precision    recall  f1-score   support\n",
      "\n",
      "          No       0.69      0.77      0.73       114\n",
      "         Yes       0.79      0.72      0.75       137\n",
      "\n",
      "    accuracy                           0.74       251\n",
      "   macro avg       0.74      0.74      0.74       251\n",
      "weighted avg       0.75      0.74      0.74       251\n",
      "\n"
     ]
    },
    {
     "name": "stderr",
     "output_type": "stream",
     "text": [
      "c:\\Users\\Sujal Khant\\.conda\\envs\\health\\lib\\site-packages\\sklearn\\utils\\validation.py:2742: UserWarning: X has feature names, but StandardScaler was fitted without feature names\n",
      "  warnings.warn(\n"
     ]
    }
   ],
   "source": [
    "try:\n",
    "    config = ConfigurationManager()\n",
    "    eval_config = config.get_model_evaluation_config()\n",
    "    evaluator = ModelEvaluation(config=eval_config)\n",
    "    evaluator.evaluate()\n",
    "except Exception as e:\n",
    "    raise e"
   ]
  }
 ],
 "metadata": {
  "kernelspec": {
   "display_name": "health",
   "language": "python",
   "name": "python3"
  },
  "language_info": {
   "codemirror_mode": {
    "name": "ipython",
    "version": 3
   },
   "file_extension": ".py",
   "mimetype": "text/x-python",
   "name": "python",
   "nbconvert_exporter": "python",
   "pygments_lexer": "ipython3",
   "version": "3.10.18"
  }
 },
 "nbformat": 4,
 "nbformat_minor": 5
}
